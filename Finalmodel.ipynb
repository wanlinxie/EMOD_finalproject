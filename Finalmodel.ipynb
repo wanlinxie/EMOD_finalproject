{
 "cells": [
  {
   "cell_type": "code",
   "execution_count": 73,
   "metadata": {},
   "outputs": [],
   "source": [
    "import pandas as pd\n",
    "import numpy as np\n",
    "import os\n",
    "from datetime import datetime"
   ]
  },
  {
   "cell_type": "code",
   "execution_count": 99,
   "metadata": {},
   "outputs": [],
   "source": [
    "companies = ['FB','BA','NFLX','TSLA']\n",
    "sources = ['yahoo.com','businessinsider.com','marketwatch.com']\n"
   ]
  },
  {
   "cell_type": "code",
   "execution_count": 102,
   "metadata": {},
   "outputs": [],
   "source": [
    "def getData(company):\n",
    "    stock = pd.read_csv(\"StockData/\" + company +\"_pred\" + '.csv')\n",
    "    dates = stock['Date'].values\n",
    "    labels = stock['Label'].values\n",
    "    new_file_name = \"result/\" + company + \"_final_pred.csv\"\n",
    "    final = {}\n",
    "    for i, date in enumerate(dates):\n",
    "        if '/' in date:\n",
    "            replace = datetime.strptime(date,\"%m/%d/%y\")\n",
    "            date = datetime.strftime(replace, \"%Y-%m-%d\")\n",
    "        #dates_label[date] = labels[i]\n",
    "        final['Dates'] = final.get(\"Dates\",[]) + [date]\n",
    "        final['Labels'] = final.get('Labels',[]) + [labels[i]]\n",
    "    \n",
    "    for s in sources:\n",
    "        news = pd.read_csv(\"Prediction/\" + company + \"_\" + s + \"_prediction.csv\",encoding='latin-1')\n",
    "        result = {} # date, content_score\n",
    "        for _, row in news.iterrows():\n",
    "            if '/' in row['dates']:\n",
    "                replace = datetime.strptime(row['dates'],\"%m/%d/%y\")\n",
    "                dd = datetime.strftime(replace, \"%Y-%m-%d\")\n",
    "            else:\n",
    "                dd = row['dates']\n",
    "            result[dd] = result.get(dd,[]) + [row['content_scores']]\n",
    "        for key in result.keys():\n",
    "            result[key] = np.mean(result[key])\n",
    "        keyname = s[:-4] + \"_content_scores\"\n",
    "        final[keyname] = []\n",
    "        for d in final['Dates']:\n",
    "            if d in result:\n",
    "                final[keyname].append(result[d])\n",
    "            else:\n",
    "                final[keyname].append(0.0)\n",
    "\n",
    "        title_result = {}\n",
    "        for _, row in news.iterrows():\n",
    "            if '/' in row['dates']:\n",
    "                replace = datetime.strptime(row['dates'],\"%m/%d/%y\")\n",
    "                dd = datetime.strftime(replace, \"%Y-%m-%d\")\n",
    "            else:\n",
    "                dd = row['dates']\n",
    "            title_result[dd] = title_result.get(dd,[]) + [row['title_score']]\n",
    "        for key in title_result.keys():\n",
    "            title_result[key] = np.mean(title_result[key])\n",
    "        keyname = s[:-4] + \"_title_scores\"\n",
    "        final[keyname] = []\n",
    "        for d in final['Dates']:\n",
    "            if d in title_result:\n",
    "                final[keyname].append(title_result[d])\n",
    "            else:\n",
    "                final[keyname].append(0.0)\n",
    "\n",
    "        firstP_result = {}\n",
    "        for _, row in news.iterrows():\n",
    "            if '/' in row['dates']:\n",
    "                replace = datetime.strptime(row['dates'],\"%m/%d/%y\")\n",
    "                dd = datetime.strftime(replace, \"%Y-%m-%d\")\n",
    "            else:\n",
    "                dd = row['dates']\n",
    "            firstP_result[dd] = firstP_result.get(dd,[]) + [row['firstP_score']]\n",
    "        for key in firstP_result.keys():\n",
    "            firstP_result[key] = np.mean(firstP_result[key])\n",
    "        keyname = s[:-4] + \"_firstP_scores\"\n",
    "        final[keyname] = []\n",
    "        for d in final['Dates']:\n",
    "            if d in firstP_result:\n",
    "                final[keyname].append(firstP_result[d])\n",
    "            else:\n",
    "                final[keyname].append(0.0)\n",
    "    data = pd.DataFrame.from_dict(final)\n",
    "    data.to_csv(new_file_name,index = False)\n",
    "    "
   ]
  },
  {
   "cell_type": "code",
   "execution_count": 103,
   "metadata": {},
   "outputs": [],
   "source": [
    "for c in companies:\n",
    "    getData(c)"
   ]
  },
  {
   "cell_type": "code",
   "execution_count": null,
   "metadata": {},
   "outputs": [],
   "source": []
  }
 ],
 "metadata": {
  "kernelspec": {
   "display_name": "Python 3",
   "language": "python",
   "name": "python3"
  },
  "language_info": {
   "codemirror_mode": {
    "name": "ipython",
    "version": 3
   },
   "file_extension": ".py",
   "mimetype": "text/x-python",
   "name": "python",
   "nbconvert_exporter": "python",
   "pygments_lexer": "ipython3",
   "version": "3.6.5"
  }
 },
 "nbformat": 4,
 "nbformat_minor": 2
}
